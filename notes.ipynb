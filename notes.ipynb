{
 "cells": [
  {
   "cell_type": "code",
   "execution_count": 82,
   "id": "5fc7bf6a",
   "metadata": {},
   "outputs": [],
   "source": [
    "import pandas as pd\n",
    "import numpy as np\n",
    "from matplotlib import pyplot as plt\n",
    "import haversine\n",
    "import pygmt\n",
    "from xarray import DataArray\n",
    "\n",
    "# Some earth constants\n",
    "RATE: float = 7.2921159e-5\n",
    "# Earth's equitorial radius in meters\n",
    "EQUATORIAL_RADIUS: float = 6378137.0 # meters\n",
    "# Earth's polar radius in meters\n",
    "POLAR_RADIUS: float = 6356752.31425 # meters\n",
    "# Earth's mean radius in meters\n",
    "MEAN_RADIUS: float = 6371000.0 # meters\n",
    "# Earth's eccentricity ($e$)\n",
    "ECCENTRICITY: float = 0.0818191908425 # unit-less\n",
    "# Earth's eccentricity squared ($e^2$)\n",
    "ECCENTRICITY_SQUARED: float = ECCENTRICITY * ECCENTRICITY\n",
    "# Earth's gravitational acceleration at the equator ($g_e$) in $m/s^2$\n",
    "GE: float = 9.7803253359 # m/s^2, equatorial radius\n",
    "# Earth's gravitational acceleration at the poles ($g_p$) in $m/s^2$\n",
    "GP: float = 9.8321849378 # $m/s^2$, polar radius\n",
    "# Earth's flattening factor ($f$)\n",
    "F: float = 1.0 / 298.257223563 # Flattening factor\n",
    "# Somigliana's constant ($K$)\n",
    "K: float = (POLAR_RADIUS * GP - EQUATORIAL_RADIUS * GE) / (EQUATORIAL_RADIUS * GE) # Somigliana's constant\n",
    "# Mean radius of the Earth ($R_m$) in meters\n",
    "RM: float = 6371000.0 # meters, mean radius of the Earth"
   ]
  },
  {
   "cell_type": "code",
   "execution_count": 83,
   "id": "9d644812",
   "metadata": {},
   "outputs": [],
   "source": [
    "def gravity(latitude: float, altitude: float) -> float:\n",
    "    \"\"\"\n",
    "    Calculate the normal gravity at a given latitude and altitude.\n",
    "    \n",
    "    Parameters:\n",
    "    - latitude: Latitude in degrees.\n",
    "    - altitude: Altitude in meters.\n",
    "    \n",
    "    Returns:\n",
    "    - Normal gravity in m/s^2.\n",
    "    \"\"\"\n",
    "    lat_rad = np.radians(latitude)\n",
    "    sin_lat = np.sin(lat_rad)\n",
    "    \n",
    "    # Calculate the normal gravity using the formula\n",
    "    g = GE * (1 + K * sin_lat**2) / np.sqrt(1 - ECCENTRICITY_SQUARED * sin_lat**2)\n",
    "    g -= 3.08e-6 * altitude  # Adjust for altitude\n",
    "    return g\n",
    "\n",
    "def eotvos(latitude: float, altitude: float, north_velocity: float, east_velocity: float) -> float:\n",
    "    \"\"\"\n",
    "    Calculate the Eötvös correction at a given latitude and altitude.\n",
    "    \n",
    "    Parameters:\n",
    "    - latitude: Latitude in degrees.\n",
    "    - altitude: Altitude in meters.\n",
    "    \n",
    "    Returns:\n",
    "    - Eötvös correction in mGal.\n",
    "    \"\"\"\n",
    "    lat_rad = np.radians(latitude)\n",
    "    sin_lat = np.sin(lat_rad)\n",
    "    \n",
    "    # Calculate the Eötvös correction using the formula\n",
    "    return 2 * RATE * east_velocity * np.cos(lat_rad) + (north_velocity**2 + east_velocity**2) / MEAN_RADIUS"
   ]
  },
  {
   "cell_type": "code",
   "execution_count": 158,
   "id": "ac51b33b",
   "metadata": {},
   "outputs": [],
   "source": [
    "data = pd.read_csv('core/data/test_data.csv', index_col=0, parse_dates=True)\n",
    "closed = pd.read_csv('core/closed_loop.csv', index_col=0, parse_dates=True)"
   ]
  },
  {
   "cell_type": "code",
   "execution_count": 163,
   "id": "65b8deaf",
   "metadata": {},
   "outputs": [],
   "source": [
    "#accels = data[['accel_x', 'accel_y', 'accel_z']].to_numpy()"
   ]
  },
  {
   "cell_type": "code",
   "execution_count": 164,
   "id": "1f3b59e8",
   "metadata": {},
   "outputs": [],
   "source": [
    "gravity_obs = data[['grav_x', 'grav_y', 'grav_z']].to_numpy()\n",
    "gravity_obs = np.linalg.norm(gravity_obs, axis=1)\n",
    "gravity_theoretical = gravity(data['latitude'], data['altitude']).to_numpy()\n",
    "eotvos_correction = eotvos(closed['latitude'], \n",
    "                        closed['altitude'], \n",
    "                        closed['velocity_n'], \n",
    "                        closed['velocity_e']).to_numpy()\n",
    "altitude_corretion = 3.08e-6 * closed['altitude'].to_numpy()"
   ]
  },
  {
   "cell_type": "code",
   "execution_count": 165,
   "id": "d7df3396",
   "metadata": {},
   "outputs": [
    {
     "data": {
      "text/plain": [
       "array([0.00028598, 0.00029011, 0.00030141, ..., 0.00026931, 0.00025044,\n",
       "       0.00023202], shape=(5366,))"
      ]
     },
     "execution_count": 165,
     "metadata": {},
     "output_type": "execute_result"
    }
   ],
   "source": [
    "altitude_corretion"
   ]
  },
  {
   "cell_type": "code",
   "execution_count": 166,
   "id": "4309e326",
   "metadata": {},
   "outputs": [],
   "source": [
    "calculated_anomaly = (gravity_obs - gravity_theoretical) * 1e5  # Convert to mGal"
   ]
  },
  {
   "cell_type": "code",
   "execution_count": 167,
   "id": "7d49db7a",
   "metadata": {},
   "outputs": [
    {
     "data": {
      "text/plain": [
       "array([ 827.00425863,  827.05209545,  827.00838144, ...,  267.86245031,\n",
       "       -424.6223561 ,  -93.70553807], shape=(8035,))"
      ]
     },
     "execution_count": 167,
     "metadata": {},
     "output_type": "execute_result"
    }
   ],
   "source": [
    "calculated_anomaly"
   ]
  },
  {
   "cell_type": "code",
   "execution_count": 168,
   "id": "649639ba",
   "metadata": {},
   "outputs": [],
   "source": [
    "grav = pygmt.datasets.load_earth_free_air_anomaly(region=[\n",
    "    data['longitude'].min(), \n",
    "    data['longitude'].max(), \n",
    "    data['latitude'].min(),\n",
    "    data['latitude'].max()], resolution='02m')"
   ]
  },
  {
   "cell_type": "code",
   "execution_count": 169,
   "id": "cf8da50c",
   "metadata": {},
   "outputs": [],
   "source": [
    "anomalies = grav.interp(lon=DataArray(data['longitude']),\n",
    "                        lat=DataArray(data['latitude'])).data"
   ]
  },
  {
   "cell_type": "code",
   "execution_count": null,
   "id": "e6e92374",
   "metadata": {},
   "outputs": [],
   "source": [
    "bias = np.mean(calculated_anomaly - anomalies)"
   ]
  },
  {
   "cell_type": "code",
   "execution_count": 178,
   "id": "5940ef8c",
   "metadata": {},
   "outputs": [
    {
     "data": {
      "text/plain": [
       "np.float64(-480.65345292522966)"
      ]
     },
     "execution_count": 178,
     "metadata": {},
     "output_type": "execute_result"
    }
   ],
   "source": [
    "bias"
   ]
  },
  {
   "cell_type": "code",
   "execution_count": 185,
   "id": "7b70ba07",
   "metadata": {},
   "outputs": [
    {
     "data": {
      "image/png": "[encoded data removed]",
      "text/plain": [
       "<Figure size 640x480 with 1 Axes>"
      ]
     },
     "metadata": {},
     "output_type": "display_data"
    }
   ],
   "source": [
    "plt.plot(calculated_anomaly - 850, label='Calculated Anomaly')\n",
    "plt.plot(anomalies, label='Free Air Anomaly')\n",
    "#plt.plot(eotvos_obs, label='Eötvös Correction', linestyle='--')\n",
    "plt.xlabel('Time')\n",
    "plt.ylabel('mGal')\n",
    "plt.legend()\n",
    "plt.title('Gravity Magnitude vs Free Air Anomaly')\n",
    "plt.ylim(-1000, 1000)\n",
    "plt.show()"
   ]
  },
  {
   "cell_type": "code",
   "execution_count": null,
   "id": "97faf896",
   "metadata": {},
   "outputs": [],
   "source": []
  }
 ],
 "metadata": {
  "kernelspec": {
   "display_name": "default",
   "language": "python",
   "name": "python3"
  },
  "language_info": {
   "codemirror_mode": {
    "name": "ipython",
    "version": 3
   },
   "file_extension": ".py",
   "mimetype": "text/x-python",
   "name": "python",
   "nbconvert_exporter": "python",
   "pygments_lexer": "ipython3",
   "version": "3.13.5"
  }
 },
 "nbformat": 4,
 "nbformat_minor": 5
}
